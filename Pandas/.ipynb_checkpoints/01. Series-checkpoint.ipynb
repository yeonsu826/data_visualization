{
 "cells": [
  {
   "cell_type": "markdown",
   "id": "aeda91ba",
   "metadata": {},
   "source": [
    "# Pandas\n",
    "파이썬에서 사용하는 데이터 분석 라이브러리"
   ]
  },
  {
   "cell_type": "code",
   "execution_count": 1,
   "id": "bf105269",
   "metadata": {},
   "outputs": [],
   "source": [
    "import pandas as pd"
   ]
  },
  {
   "cell_type": "markdown",
   "id": "cb162e85",
   "metadata": {},
   "source": [
    "# 1. Series\n",
    "1차원 데이터 (정수,실수, 문자열 등)"
   ]
  },
  {
   "cell_type": "markdown",
   "id": "efc65456",
   "metadata": {},
   "source": [
    "## Series 객체 생성\n",
    "예) 1월 ~ 4월 평균 온도 데이터(-20,-10,10,20)"
   ]
  },
  {
   "cell_type": "code",
   "execution_count": 5,
   "id": "091827ae",
   "metadata": {},
   "outputs": [
    {
     "data": {
      "text/plain": [
       "0   -20\n",
       "1   -10\n",
       "2    10\n",
       "3    20\n",
       "dtype: int64"
      ]
     },
     "execution_count": 5,
     "metadata": {},
     "output_type": "execute_result"
    }
   ],
   "source": [
    "temp = pd.Series([-20,-10,10,20])\n",
    "temp"
   ]
  },
  {
   "cell_type": "code",
   "execution_count": 6,
   "id": "47c3392c",
   "metadata": {},
   "outputs": [
    {
     "data": {
      "text/plain": [
       "-20"
      ]
     },
     "execution_count": 6,
     "metadata": {},
     "output_type": "execute_result"
    }
   ],
   "source": [
    "temp[0] #1월 온도 "
   ]
  },
  {
   "cell_type": "code",
   "execution_count": 7,
   "id": "05f7ff06",
   "metadata": {},
   "outputs": [
    {
     "data": {
      "text/plain": [
       "10"
      ]
     },
     "execution_count": 7,
     "metadata": {},
     "output_type": "execute_result"
    }
   ],
   "source": [
    "temp[2] #3월 온도"
   ]
  },
  {
   "cell_type": "markdown",
   "id": "b259e212",
   "metadata": {},
   "source": [
    "# Series 객체 생성 (Index 지정)"
   ]
  },
  {
   "cell_type": "code",
   "execution_count": 9,
   "id": "371ed747",
   "metadata": {},
   "outputs": [
    {
     "data": {
      "text/plain": [
       "Jan   -20\n",
       "Feb   -10\n",
       "Mar    10\n",
       "Apr    20\n",
       "dtype: int64"
      ]
     },
     "execution_count": 9,
     "metadata": {},
     "output_type": "execute_result"
    }
   ],
   "source": [
    "temp = pd.Series([-20,-10,10,20], index =['Jan','Feb','Mar','Apr'])\n",
    "temp"
   ]
  },
  {
   "cell_type": "code",
   "execution_count": 10,
   "id": "52d1b774",
   "metadata": {},
   "outputs": [
    {
     "data": {
      "text/plain": [
       "-20"
      ]
     },
     "execution_count": 10,
     "metadata": {},
     "output_type": "execute_result"
    }
   ],
   "source": [
    "temp['Jan'] #index Jan (1월)에 해당하는 데이터 출력"
   ]
  },
  {
   "cell_type": "code",
   "execution_count": 11,
   "id": "554df6f3",
   "metadata": {},
   "outputs": [
    {
     "data": {
      "text/plain": [
       "20"
      ]
     },
     "execution_count": 11,
     "metadata": {},
     "output_type": "execute_result"
    }
   ],
   "source": [
    "temp['Apr'] #index Jan (4월)에 해당하는 데이터 출력"
   ]
  },
  {
   "cell_type": "code",
   "execution_count": 15,
   "id": "0923cf0e",
   "metadata": {},
   "outputs": [],
   "source": [
    "# temp['Jun'] #존재하지 않는 index 데이터 접근 시도 시 에러"
   ]
  },
  {
   "cell_type": "code",
   "execution_count": null,
   "id": "2c0f4b4c",
   "metadata": {},
   "outputs": [],
   "source": []
  }
 ],
 "metadata": {
  "kernelspec": {
   "display_name": "Python 3 (ipykernel)",
   "language": "python",
   "name": "python3"
  },
  "language_info": {
   "codemirror_mode": {
    "name": "ipython",
    "version": 3
   },
   "file_extension": ".py",
   "mimetype": "text/x-python",
   "name": "python",
   "nbconvert_exporter": "python",
   "pygments_lexer": "ipython3",
   "version": "3.11.5"
  }
 },
 "nbformat": 4,
 "nbformat_minor": 5
}

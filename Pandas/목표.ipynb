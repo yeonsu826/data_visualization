{
 "cells": [
  {
   "cell_type": "markdown",
   "id": "5fb43af7",
   "metadata": {},
   "source": [
    "# 목표\n",
    "\n",
    "-  3D 주식사이트 만들기\n",
    "- 소설 작가\n",
    "- 3D 일기장 어플 만들기\n",
    "- 작곡가"
   ]
  },
  {
   "cell_type": "markdown",
   "id": "b484c071",
   "metadata": {},
   "source": [
    "어떻게 살아야 할까..."
   ]
  },
  {
   "cell_type": "code",
   "execution_count": null,
   "id": "40ac4ad1",
   "metadata": {},
   "outputs": [],
   "source": []
  }
 ],
 "metadata": {
  "kernelspec": {
   "display_name": "Python 3 (ipykernel)",
   "language": "python",
   "name": "python3"
  },
  "language_info": {
   "codemirror_mode": {
    "name": "ipython",
    "version": 3
   },
   "file_extension": ".py",
   "mimetype": "text/x-python",
   "name": "python",
   "nbconvert_exporter": "python",
   "pygments_lexer": "ipython3",
   "version": "3.11.5"
  }
 },
 "nbformat": 4,
 "nbformat_minor": 5
}
